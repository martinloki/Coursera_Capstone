{
    "nbformat_minor": 1, 
    "cells": [
        {
            "source": "# Introduction/Business Problem\n### A description of the problem and a discussion of the background.\nTaking on the role of a restruarantier; I will use my new data science knowledge to help in the location planning phase for a new venture in a wealthy, fast growing city inside the United States.  ", 
            "cell_type": "markdown", 
            "metadata": {}
        }, 
        {
            "source": "# Data\n\n### A description of the data and how it will be used to solve the problem.\n\nTo solve this challenge, the following preliminary plan is in place.\n1. Determine the proper cities/areas which are both wealthy and fast growing.\n2. Determine which eateries in the chosen area receive the most visitors.\n3. Identify a location within the area with the largest gap between similar restaurants which still holds other venues with high foot traffic\n4. Decide to either accept the location, or to iterate through these steps until a suitable location has been identified.\n\n\nIn support of that plan, the following data sources will be used.\nCensus data:\n* The expected wealth of populations in a city\n* The recent growth rate of the cities being reviewed\n\nFoursquare:\n* Review venues to identify the popularity of differing types of restaurants (comparing foot traffic to other restaurants)\n* Foot traffic experienced by other businesses nearby potential locations\n\nOther:\n* Geo-spacial location data from cocl.us will be used for visualizations\n\nAll of the data will be compiled and appropriate visualizations will be produced and reviewed.  A final determination will be made by hand.", 
            "cell_type": "markdown", 
            "metadata": {}
        }, 
        {
            "execution_count": null, 
            "cell_type": "code", 
            "metadata": {}, 
            "outputs": [], 
            "source": ""
        }
    ], 
    "metadata": {
        "kernelspec": {
            "display_name": "Python 3.6", 
            "name": "python3", 
            "language": "python"
        }, 
        "language_info": {
            "mimetype": "text/x-python", 
            "nbconvert_exporter": "python", 
            "version": "3.6.8", 
            "name": "python", 
            "file_extension": ".py", 
            "pygments_lexer": "ipython3", 
            "codemirror_mode": {
                "version": 3, 
                "name": "ipython"
            }
        }
    }, 
    "nbformat": 4
}