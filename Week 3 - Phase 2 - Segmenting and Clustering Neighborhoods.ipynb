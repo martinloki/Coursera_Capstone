{
    "nbformat_minor": 1, 
    "cells": [
        {
            "source": "# PHASE 1\n### Scrape postal codes from Wikipedia.", 
            "cell_type": "markdown", 
            "metadata": {}
        }, 
        {
            "execution_count": 5, 
            "cell_type": "code", 
            "metadata": {}, 
            "outputs": [
                {
                    "execution_count": 5, 
                    "metadata": {}, 
                    "data": {
                        "text/html": "<div>\n<style scoped>\n    .dataframe tbody tr th:only-of-type {\n        vertical-align: middle;\n    }\n\n    .dataframe tbody tr th {\n        vertical-align: top;\n    }\n\n    .dataframe thead th {\n        text-align: right;\n    }\n</style>\n<table border=\"1\" class=\"dataframe\">\n  <thead>\n    <tr style=\"text-align: right;\">\n      <th></th>\n      <th>Postcode</th>\n      <th>Borough</th>\n      <th>Neighbourhood</th>\n    </tr>\n  </thead>\n  <tbody>\n    <tr>\n      <th>0</th>\n      <td>M1A</td>\n      <td>Not assigned</td>\n      <td>Not assigned</td>\n    </tr>\n    <tr>\n      <th>1</th>\n      <td>M2A</td>\n      <td>Not assigned</td>\n      <td>Not assigned</td>\n    </tr>\n    <tr>\n      <th>2</th>\n      <td>M3A</td>\n      <td>North York</td>\n      <td>Parkwoods</td>\n    </tr>\n    <tr>\n      <th>3</th>\n      <td>M4A</td>\n      <td>North York</td>\n      <td>Victoria Village</td>\n    </tr>\n    <tr>\n      <th>4</th>\n      <td>M5A</td>\n      <td>Downtown Toronto</td>\n      <td>Harbourfront</td>\n    </tr>\n  </tbody>\n</table>\n</div>", 
                        "text/plain": "  Postcode           Borough     Neighbourhood\n0      M1A      Not assigned      Not assigned\n1      M2A      Not assigned      Not assigned\n2      M3A        North York         Parkwoods\n3      M4A        North York  Victoria Village\n4      M5A  Downtown Toronto      Harbourfront"
                    }, 
                    "output_type": "execute_result"
                }
            ], 
            "source": "import pandas as pd\ndf_wiki=pd.read_html(str('https://en.wikipedia.org/wiki/List_of_postal_codes_of_Canada:_M'))[0]\ndf_wiki.head()"
        }, 
        {
            "source": "### Data Cleanup", 
            "cell_type": "markdown", 
            "metadata": {}
        }, 
        {
            "execution_count": 6, 
            "cell_type": "code", 
            "metadata": {}, 
            "outputs": [
                {
                    "execution_count": 6, 
                    "metadata": {}, 
                    "data": {
                        "text/html": "<div>\n<style scoped>\n    .dataframe tbody tr th:only-of-type {\n        vertical-align: middle;\n    }\n\n    .dataframe tbody tr th {\n        vertical-align: top;\n    }\n\n    .dataframe thead th {\n        text-align: right;\n    }\n</style>\n<table border=\"1\" class=\"dataframe\">\n  <thead>\n    <tr style=\"text-align: right;\">\n      <th></th>\n      <th>Postcode</th>\n      <th>Borough</th>\n      <th>Neighbourhood</th>\n    </tr>\n  </thead>\n  <tbody>\n    <tr>\n      <th>0</th>\n      <td>M1B</td>\n      <td>Scarborough</td>\n      <td>Rouge, Malvern</td>\n    </tr>\n    <tr>\n      <th>1</th>\n      <td>M1C</td>\n      <td>Scarborough</td>\n      <td>Highland Creek, Rouge Hill, Port Union</td>\n    </tr>\n    <tr>\n      <th>2</th>\n      <td>M1E</td>\n      <td>Scarborough</td>\n      <td>Guildwood, Morningside, West Hill</td>\n    </tr>\n    <tr>\n      <th>3</th>\n      <td>M1G</td>\n      <td>Scarborough</td>\n      <td>Woburn</td>\n    </tr>\n    <tr>\n      <th>4</th>\n      <td>M1H</td>\n      <td>Scarborough</td>\n      <td>Cedarbrae</td>\n    </tr>\n    <tr>\n      <th>5</th>\n      <td>M1J</td>\n      <td>Scarborough</td>\n      <td>Scarborough Village</td>\n    </tr>\n    <tr>\n      <th>6</th>\n      <td>M1K</td>\n      <td>Scarborough</td>\n      <td>East Birchmount Park, Ionview, Kennedy Park</td>\n    </tr>\n    <tr>\n      <th>7</th>\n      <td>M1L</td>\n      <td>Scarborough</td>\n      <td>Clairlea, Golden Mile, Oakridge</td>\n    </tr>\n    <tr>\n      <th>8</th>\n      <td>M1M</td>\n      <td>Scarborough</td>\n      <td>Cliffcrest, Cliffside, Scarborough Village West</td>\n    </tr>\n    <tr>\n      <th>9</th>\n      <td>M1N</td>\n      <td>Scarborough</td>\n      <td>Birch Cliff, Cliffside West</td>\n    </tr>\n  </tbody>\n</table>\n</div>", 
                        "text/plain": "  Postcode      Borough                                    Neighbourhood\n0      M1B  Scarborough                                   Rouge, Malvern\n1      M1C  Scarborough           Highland Creek, Rouge Hill, Port Union\n2      M1E  Scarborough                Guildwood, Morningside, West Hill\n3      M1G  Scarborough                                           Woburn\n4      M1H  Scarborough                                        Cedarbrae\n5      M1J  Scarborough                              Scarborough Village\n6      M1K  Scarborough      East Birchmount Park, Ionview, Kennedy Park\n7      M1L  Scarborough                  Clairlea, Golden Mile, Oakridge\n8      M1M  Scarborough  Cliffcrest, Cliffside, Scarborough Village West\n9      M1N  Scarborough                      Birch Cliff, Cliffside West"
                    }, 
                    "output_type": "execute_result"
                }
            ], 
            "source": "#Remove the Boroughs that are 'Not assigned'\ndf_wiki=df_wiki[df_wiki.Borough!=\"Not assigned\"]\n\n#Assign Neighbourhoods to be equal to Boroughs if otherwise 'Not assigned'\ndf_wiki['Neighbourhood'].replace('Not assigned',df_wiki['Borough'],inplace=True)\n\n#Join any Neighbourhoods in the same Borough into a single comma delineated line.\ndf_wiki=df_wiki.groupby(['Postcode','Borough'])['Neighbourhood'].apply(', '.join).reset_index()\n\ndf_wiki.head(10)"
        }, 
        {
            "source": "### Validate Data Shape\n\"In the last cell of your notebook, use the .shape method to print the number of rows of your dataframe.\"", 
            "cell_type": "markdown", 
            "metadata": {}
        }, 
        {
            "execution_count": 7, 
            "cell_type": "code", 
            "metadata": {}, 
            "outputs": [
                {
                    "execution_count": 7, 
                    "metadata": {}, 
                    "data": {
                        "text/plain": "(103, 3)"
                    }, 
                    "output_type": "execute_result"
                }
            ], 
            "source": "df_wiki.shape"
        }, 
        {
            "source": "# PHASE 2", 
            "cell_type": "markdown", 
            "metadata": {}
        }, 
        {
            "source": "### Get the lat and long file for merging", 
            "cell_type": "markdown", 
            "metadata": {}
        }, 
        {
            "execution_count": 8, 
            "cell_type": "code", 
            "metadata": {}, 
            "outputs": [
                {
                    "output_type": "stream", 
                    "name": "stdout", 
                    "text": "--2019-07-18 10:23:46--  https://cocl.us/Geospatial_data/Geospatial_Coordinates.csv\nResolving cocl.us (cocl.us)... 169.48.113.201\nConnecting to cocl.us (cocl.us)|169.48.113.201|:443... connected.\nHTTP request sent, awaiting response... 301 Moved Permanently\nLocation: https://ibm.box.com/shared/static/9afzr83pps4pwf2smjjcf1y5mvgb18rr.csv [following]\n--2019-07-18 10:23:48--  https://ibm.box.com/shared/static/9afzr83pps4pwf2smjjcf1y5mvgb18rr.csv\nResolving ibm.box.com (ibm.box.com)... 107.152.26.197\nConnecting to ibm.box.com (ibm.box.com)|107.152.26.197|:443... connected.\nHTTP request sent, awaiting response... 301 Moved Permanently\nLocation: /public/static/9afzr83pps4pwf2smjjcf1y5mvgb18rr.csv [following]\n--2019-07-18 10:23:48--  https://ibm.box.com/public/static/9afzr83pps4pwf2smjjcf1y5mvgb18rr.csv\nReusing existing connection to ibm.box.com:443.\nHTTP request sent, awaiting response... 301 Moved Permanently\nLocation: https://ibm.ent.box.com/public/static/9afzr83pps4pwf2smjjcf1y5mvgb18rr.csv [following]\n--2019-07-18 10:23:48--  https://ibm.ent.box.com/public/static/9afzr83pps4pwf2smjjcf1y5mvgb18rr.csv\nResolving ibm.ent.box.com (ibm.ent.box.com)... 107.152.27.211\nConnecting to ibm.ent.box.com (ibm.ent.box.com)|107.152.27.211|:443... connected.\nHTTP request sent, awaiting response... 302 Found\nLocation: https://public.boxcloud.com/d/1/b1!OIM8hNnjhOorChXxYQ1oC-km35WXvje1yrv5_8XVpUdUz7MI9Uuiu3mtMYwYYuwWt_UNpW2lcDf2SP-P17GHIK5CGkDO2khs1oKPMt7uq_tmm6a7HEJSxwb7nHlXmsYcE_asaP5yq3eXt2LvyoiJXNU3exK2UcuqpDOrdydBSrgqbRqs0KmMN1pB1YYdGaVVe_O54V8x1AQdH4DhDtQNM1_kuC0gyGhzwyNk43g3s57GGSetqJZEasCM64o61EfJXDvAnzPu973zGFcNMUpnG_mYBtR7ukIX-AtQGpVhQXiC8BZVr8GmeXkqTWfTp-c5Afzph5YZUXbZUz7c6nweO6j6W19L1qsc-yYLivxCXfR7eH2MZuNyZpa-BYCmCYVp9e9t3LXPSEiDVFSBqk1Y7di7eO4MI0bgIb24bZLu3cjFUI_edxFBElKS0pEeZNj4syKuFSWQ20pN9C1G-te1GkKZrn3TKnEvpTVJxE65lgA6Wq0FgQG3Uifc2YItGwjFm6S7WIWOkwrnyalF6_c4h9vFZzgmoU8uiH0i--jaWgrFbKU_WC1qb1Xn8XjzjJR2xYI_ZZj0ZysRjkCqP2zhYibA_zUp-Q_m5qPXW5YB4abxMyFLyGU02SqkdjtuKHc8TDUdobBhTwZiSQmpLDKJzOBqw31BalZN9R-GTM55kOfZgB5xVM81eDq_8XFeO-0y7p01tKesLvTjPmktMv3Ufh5DaWmR2YRBmFKaJTUpfPaMluOj01_1LFzqtTiDf3XroiVNUxeVzH-t32O_z6QX2mCRQRIdYHOeZhMw37ZdB_E-ONtNM35mpWm_EKnLfCeQWO0d0ZCfdqiiQaNiyZNcf1TtWT__KZ5r73uJWjW4Ti7kj85WfXOwnyIHvKpcnMjwoMKsgJfe3ZqgJ3COyI93oRiMEKtNgh_fftp0yDZ6HVaZWmYRMwjk5-HnRcRUa4p6lJUUYyX0sBYEKnVCruEAzuowVT91XfSdooLVBEQPIon7vqoac7-eOcBe22Mwvqehmdj3CdT8n7GKgofEMZ1k-exY2zX9DBePYvvnxsAX1ZA0rz_X0vuyYOKPycaRdSz_72zbbDFsEgFwTH0B1q0fmQEwBowH_YiflAkKGHmCs6C--yWsdO1SGE4UnuZDb8Vmh6yusEQRQb8u0a6liTVDDIJ2iWlK7vgi44XFHjUcylVFhaSCWb0hslZ1tGnpanoA1kXKmXzHoLlFLDh-sJK3WxFQMOwwEcQbXhC_Ox702Q_fgQtLZhN5yKDLz3FxMktE9Tgbz8sQxktH9RVUC6LygIy7cT5MYAdlmbfM9CG2fYkLRJWUMP_T89wyI_wW5z2azFZ_8PYtjjyMU-QuhRXtE7eeoZ3t8Jihl_MF6-33INSOj-FPuIK3hcc./download [following]\n--2019-07-18 10:23:49--  https://public.boxcloud.com/d/1/b1!OIM8hNnjhOorChXxYQ1oC-km35WXvje1yrv5_8XVpUdUz7MI9Uuiu3mtMYwYYuwWt_UNpW2lcDf2SP-P17GHIK5CGkDO2khs1oKPMt7uq_tmm6a7HEJSxwb7nHlXmsYcE_asaP5yq3eXt2LvyoiJXNU3exK2UcuqpDOrdydBSrgqbRqs0KmMN1pB1YYdGaVVe_O54V8x1AQdH4DhDtQNM1_kuC0gyGhzwyNk43g3s57GGSetqJZEasCM64o61EfJXDvAnzPu973zGFcNMUpnG_mYBtR7ukIX-AtQGpVhQXiC8BZVr8GmeXkqTWfTp-c5Afzph5YZUXbZUz7c6nweO6j6W19L1qsc-yYLivxCXfR7eH2MZuNyZpa-BYCmCYVp9e9t3LXPSEiDVFSBqk1Y7di7eO4MI0bgIb24bZLu3cjFUI_edxFBElKS0pEeZNj4syKuFSWQ20pN9C1G-te1GkKZrn3TKnEvpTVJxE65lgA6Wq0FgQG3Uifc2YItGwjFm6S7WIWOkwrnyalF6_c4h9vFZzgmoU8uiH0i--jaWgrFbKU_WC1qb1Xn8XjzjJR2xYI_ZZj0ZysRjkCqP2zhYibA_zUp-Q_m5qPXW5YB4abxMyFLyGU02SqkdjtuKHc8TDUdobBhTwZiSQmpLDKJzOBqw31BalZN9R-GTM55kOfZgB5xVM81eDq_8XFeO-0y7p01tKesLvTjPmktMv3Ufh5DaWmR2YRBmFKaJTUpfPaMluOj01_1LFzqtTiDf3XroiVNUxeVzH-t32O_z6QX2mCRQRIdYHOeZhMw37ZdB_E-ONtNM35mpWm_EKnLfCeQWO0d0ZCfdqiiQaNiyZNcf1TtWT__KZ5r73uJWjW4Ti7kj85WfXOwnyIHvKpcnMjwoMKsgJfe3ZqgJ3COyI93oRiMEKtNgh_fftp0yDZ6HVaZWmYRMwjk5-HnRcRUa4p6lJUUYyX0sBYEKnVCruEAzuowVT91XfSdooLVBEQPIon7vqoac7-eOcBe22Mwvqehmdj3CdT8n7GKgofEMZ1k-exY2zX9DBePYvvnxsAX1ZA0rz_X0vuyYOKPycaRdSz_72zbbDFsEgFwTH0B1q0fmQEwBowH_YiflAkKGHmCs6C--yWsdO1SGE4UnuZDb8Vmh6yusEQRQb8u0a6liTVDDIJ2iWlK7vgi44XFHjUcylVFhaSCWb0hslZ1tGnpanoA1kXKmXzHoLlFLDh-sJK3WxFQMOwwEcQbXhC_Ox702Q_fgQtLZhN5yKDLz3FxMktE9Tgbz8sQxktH9RVUC6LygIy7cT5MYAdlmbfM9CG2fYkLRJWUMP_T89wyI_wW5z2azFZ_8PYtjjyMU-QuhRXtE7eeoZ3t8Jihl_MF6-33INSOj-FPuIK3hcc./download\nResolving public.boxcloud.com (public.boxcloud.com)... 107.152.25.200\nConnecting to public.boxcloud.com (public.boxcloud.com)|107.152.25.200|:443... connected.\nHTTP request sent, awaiting response... 200 OK\nLength: 2891 (2.8K) [text/csv]\nSaving to: \u2018Geospatial_Coordinates.csv\u2019\n\n100%[======================================>] 2,891       --.-K/s   in 0s      \n\n2019-07-18 10:23:49 (452 MB/s) - \u2018Geospatial_Coordinates.csv\u2019 saved [2891/2891]\n\n"
                }
            ], 
            "source": "!wget -O Geospatial_Coordinates.csv https://cocl.us/Geospatial_data/Geospatial_Coordinates.csv"
        }, 
        {
            "source": "### Process the cvs and merge it with the wiki data\n<ul>\n<li>Read the cvs file in and verify the data matches epectations\n<li>Check the wiki DataFame format\n<li>Join the two dataframes to create the merged DataFrame\n</ul>", 
            "cell_type": "markdown", 
            "metadata": {}
        }, 
        {
            "execution_count": 9, 
            "cell_type": "code", 
            "metadata": {}, 
            "outputs": [
                {
                    "execution_count": 9, 
                    "metadata": {}, 
                    "data": {
                        "text/html": "<div>\n<style scoped>\n    .dataframe tbody tr th:only-of-type {\n        vertical-align: middle;\n    }\n\n    .dataframe tbody tr th {\n        vertical-align: top;\n    }\n\n    .dataframe thead th {\n        text-align: right;\n    }\n</style>\n<table border=\"1\" class=\"dataframe\">\n  <thead>\n    <tr style=\"text-align: right;\">\n      <th></th>\n      <th>Postal Code</th>\n      <th>Latitude</th>\n      <th>Longitude</th>\n    </tr>\n  </thead>\n  <tbody>\n    <tr>\n      <th>0</th>\n      <td>M1B</td>\n      <td>43.806686</td>\n      <td>-79.194353</td>\n    </tr>\n    <tr>\n      <th>1</th>\n      <td>M1C</td>\n      <td>43.784535</td>\n      <td>-79.160497</td>\n    </tr>\n    <tr>\n      <th>2</th>\n      <td>M1E</td>\n      <td>43.763573</td>\n      <td>-79.188711</td>\n    </tr>\n    <tr>\n      <th>3</th>\n      <td>M1G</td>\n      <td>43.770992</td>\n      <td>-79.216917</td>\n    </tr>\n    <tr>\n      <th>4</th>\n      <td>M1H</td>\n      <td>43.773136</td>\n      <td>-79.239476</td>\n    </tr>\n  </tbody>\n</table>\n</div>", 
                        "text/plain": "  Postal Code   Latitude  Longitude\n0         M1B  43.806686 -79.194353\n1         M1C  43.784535 -79.160497\n2         M1E  43.763573 -79.188711\n3         M1G  43.770992 -79.216917\n4         M1H  43.773136 -79.239476"
                    }, 
                    "output_type": "execute_result"
                }
            ], 
            "source": "df_geo = pd.read_csv('Geospatial_Coordinates.csv')\ndf_geo.head()"
        }, 
        {
            "execution_count": 6, 
            "cell_type": "code", 
            "metadata": {}, 
            "outputs": [
                {
                    "execution_count": 6, 
                    "metadata": {}, 
                    "data": {
                        "text/html": "<div>\n<style scoped>\n    .dataframe tbody tr th:only-of-type {\n        vertical-align: middle;\n    }\n\n    .dataframe tbody tr th {\n        vertical-align: top;\n    }\n\n    .dataframe thead th {\n        text-align: right;\n    }\n</style>\n<table border=\"1\" class=\"dataframe\">\n  <thead>\n    <tr style=\"text-align: right;\">\n      <th></th>\n      <th>Postcode</th>\n      <th>Borough</th>\n      <th>Neighbourhood</th>\n    </tr>\n  </thead>\n  <tbody>\n    <tr>\n      <th>0</th>\n      <td>M1B</td>\n      <td>Scarborough</td>\n      <td>Rouge, Malvern</td>\n    </tr>\n    <tr>\n      <th>1</th>\n      <td>M1C</td>\n      <td>Scarborough</td>\n      <td>Highland Creek, Rouge Hill, Port Union</td>\n    </tr>\n    <tr>\n      <th>2</th>\n      <td>M1E</td>\n      <td>Scarborough</td>\n      <td>Guildwood, Morningside, West Hill</td>\n    </tr>\n    <tr>\n      <th>3</th>\n      <td>M1G</td>\n      <td>Scarborough</td>\n      <td>Woburn</td>\n    </tr>\n    <tr>\n      <th>4</th>\n      <td>M1H</td>\n      <td>Scarborough</td>\n      <td>Cedarbrae</td>\n    </tr>\n  </tbody>\n</table>\n</div>", 
                        "text/plain": "  Postcode      Borough                           Neighbourhood\n0      M1B  Scarborough                          Rouge, Malvern\n1      M1C  Scarborough  Highland Creek, Rouge Hill, Port Union\n2      M1E  Scarborough       Guildwood, Morningside, West Hill\n3      M1G  Scarborough                                  Woburn\n4      M1H  Scarborough                               Cedarbrae"
                    }, 
                    "output_type": "execute_result"
                }
            ], 
            "source": "df_wiki.head()"
        }, 
        {
            "execution_count": 10, 
            "cell_type": "code", 
            "metadata": {}, 
            "outputs": [], 
            "source": "df=df_wiki.join(df_geo.set_index('Postal Code'),on='Postcode',how='left')"
        }, 
        {
            "source": "### Verify the resulting data frame against expectations", 
            "cell_type": "markdown", 
            "metadata": {}
        }, 
        {
            "execution_count": 11, 
            "cell_type": "code", 
            "metadata": {}, 
            "outputs": [
                {
                    "execution_count": 11, 
                    "metadata": {}, 
                    "data": {
                        "text/html": "<div>\n<style scoped>\n    .dataframe tbody tr th:only-of-type {\n        vertical-align: middle;\n    }\n\n    .dataframe tbody tr th {\n        vertical-align: top;\n    }\n\n    .dataframe thead th {\n        text-align: right;\n    }\n</style>\n<table border=\"1\" class=\"dataframe\">\n  <thead>\n    <tr style=\"text-align: right;\">\n      <th></th>\n      <th>Postcode</th>\n      <th>Borough</th>\n      <th>Neighbourhood</th>\n      <th>Latitude</th>\n      <th>Longitude</th>\n    </tr>\n  </thead>\n  <tbody>\n    <tr>\n      <th>0</th>\n      <td>M1B</td>\n      <td>Scarborough</td>\n      <td>Rouge, Malvern</td>\n      <td>43.806686</td>\n      <td>-79.194353</td>\n    </tr>\n    <tr>\n      <th>1</th>\n      <td>M1C</td>\n      <td>Scarborough</td>\n      <td>Highland Creek, Rouge Hill, Port Union</td>\n      <td>43.784535</td>\n      <td>-79.160497</td>\n    </tr>\n    <tr>\n      <th>2</th>\n      <td>M1E</td>\n      <td>Scarborough</td>\n      <td>Guildwood, Morningside, West Hill</td>\n      <td>43.763573</td>\n      <td>-79.188711</td>\n    </tr>\n    <tr>\n      <th>3</th>\n      <td>M1G</td>\n      <td>Scarborough</td>\n      <td>Woburn</td>\n      <td>43.770992</td>\n      <td>-79.216917</td>\n    </tr>\n    <tr>\n      <th>4</th>\n      <td>M1H</td>\n      <td>Scarborough</td>\n      <td>Cedarbrae</td>\n      <td>43.773136</td>\n      <td>-79.239476</td>\n    </tr>\n  </tbody>\n</table>\n</div>", 
                        "text/plain": "  Postcode      Borough                           Neighbourhood   Latitude  \\\n0      M1B  Scarborough                          Rouge, Malvern  43.806686   \n1      M1C  Scarborough  Highland Creek, Rouge Hill, Port Union  43.784535   \n2      M1E  Scarborough       Guildwood, Morningside, West Hill  43.763573   \n3      M1G  Scarborough                                  Woburn  43.770992   \n4      M1H  Scarborough                               Cedarbrae  43.773136   \n\n   Longitude  \n0 -79.194353  \n1 -79.160497  \n2 -79.188711  \n3 -79.216917  \n4 -79.239476  "
                    }, 
                    "output_type": "execute_result"
                }
            ], 
            "source": "df.head()"
        }
    ], 
    "metadata": {
        "kernelspec": {
            "display_name": "Python 3.6", 
            "name": "python3", 
            "language": "python"
        }, 
        "language_info": {
            "mimetype": "text/x-python", 
            "nbconvert_exporter": "python", 
            "version": "3.6.8", 
            "name": "python", 
            "file_extension": ".py", 
            "pygments_lexer": "ipython3", 
            "codemirror_mode": {
                "version": 3, 
                "name": "ipython"
            }
        }
    }, 
    "nbformat": 4
}